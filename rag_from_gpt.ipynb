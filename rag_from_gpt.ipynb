{
 "cells": [
  {
   "cell_type": "code",
   "execution_count": 18,
   "metadata": {},
   "outputs": [],
   "source": [
    "import json\n",
    "from typing import List, Dict, Any\n",
    "\n",
    "def load_loan_data(file_path: str) -> List[Dict[str, Any]]:\n",
    "    with open(file_path, 'r', encoding='utf-8') as file:\n",
    "        data_raw = json.load(file)\n",
    "    data_list = data_raw['result']['baseList']\n",
    "    data_option = data_raw['result']['optionList']\n",
    "\n",
    "    new_data = []\n",
    "    for data in data_list:\n",
    "        for option in data_option:\n",
    "            if data[\"fin_prdt_cd\"] == option[\"fin_prdt_cd\"]:\n",
    "                item_dict = data\n",
    "                for op_key in option:\n",
    "                    item_dict[op_key] = option[op_key]\n",
    "                new_data.append(item_dict)\n",
    "        \n",
    "    return data\n",
    "\n",
    "loan_data = load_loan_data('fss_test.json')"
   ]
  },
  {
   "cell_type": "code",
   "execution_count": null,
   "metadata": {},
   "outputs": [],
   "source": []
  },
  {
   "cell_type": "code",
   "execution_count": null,
   "metadata": {},
   "outputs": [],
   "source": [
    "# # 대출 상품 목록\n",
    "# loan_data = [\n",
    "# {'dcls_month': '202410',\n",
    "#   'fin_co_no': '0010593',\n",
    "#   'fin_prdt_cd': '302301',\n",
    "#   'kor_co_nm': '한화생명보험주식회사',\n",
    "#   'fin_prdt_nm': '홈드림모기지론',\n",
    "#   'join_way': '영업점,모집인',\n",
    "#   'loan_inci_expn': '인지세(50%), 주택채권매입비용',\n",
    "#   'erly_rpay_fee': '기본형(36개월이내 원금상환시 상환금액의 1.2% * 잔존일수 / 36개월) 외 3개 방식',\n",
    "#   'dly_rate': '대출만기 경과 건을 포함하여 연체기간에 상관없이 정상금리 +3%를 적용 (단, 최고 19%)',\n",
    "#   'loan_lmt': '감정가의 최고 70%까지 (담보물소재지, 대출금액, 고객신용, 소득 등에 따라 차등적용)',\n",
    "#   'dcls_strt_day': '20220819',\n",
    "#   'dcls_end_day': None,\n",
    "#   'fin_co_subm_day': '202410181400',\n",
    "#   'mrtg_type': 'E',\n",
    "#   'mrtg_type_nm': '아파트외',\n",
    "#   'rpay_type': 'D',\n",
    "#   'rpay_type_nm': '분할상환방식',\n",
    "#   'lend_rate_type': 'C',\n",
    "#   'lend_rate_type_nm': '변동금리',\n",
    "#   'lend_rate_min': 4.87,\n",
    "#   'lend_rate_max': 5.37,\n",
    "#   'lend_rate_avg': 4.76},\n",
    "# ]"
   ]
  },
  {
   "cell_type": "code",
   "execution_count": null,
   "metadata": {},
   "outputs": [],
   "source": [
    "from langchain.prompts import PromptTemplate\n",
    "\n",
    "my_template = \"\"\"아래의 질문에 대해 한 줄로 간결하고 친절하게 답변하세요.\n",
    "질문: {question}\"\"\"\n",
    "\n",
    "prompt = PromptTemplate.from_template(my_template)\n",
    "prompt.format(question=\"잠이 안 올 때는 어떻게 하면 좋을지 대답해줘\")\n",
    "\n",
    "chat_model.predict(prompt.format(question=\"잠이 안 올 때는 어떻게 하면 좋을지 대답해줘\"))"
   ]
  },
  {
   "cell_type": "code",
   "execution_count": 20,
   "metadata": {},
   "outputs": [
    {
     "data": {
      "text/plain": [
       "'답변: \\n- 대출금: 2억\\n- 상환 기간: 12개월\\n- 보유 주택 가격: 10억'"
      ]
     },
     "execution_count": 20,
     "metadata": {},
     "output_type": "execute_result"
    }
   ],
   "source": [
    "template = \"\"\"다음 글에서 대출금, 상환 기간, 보유 주택 가격을 찾아 정리하세요.\n",
    "예시)\n",
    "질문: 이 상품의 월 상환액을 계산해 주세요. 보유 주택은 3억에 대출금은 1억이고 상환 기간은 36개월입니다.\n",
    "답변: - 대출금: 1억\\n- 상환 기간: 36개월\\n- 보유 주택 가격: 3억\n",
    "질문: {query}\"\"\"\n",
    "prompt = PromptTemplate.from_template(template)\n",
    "q = \"이 상품의 월 상환액을 계산해 주세요. 10억짜리 집이 있고, 2억 정도 대출받아서 12개월동안 갚고 싶어요.\"\n",
    "\n",
    "llm.predict(prompt.format(query=q))"
   ]
  },
  {
   "cell_type": "code",
   "execution_count": 36,
   "metadata": {},
   "outputs": [
    {
     "name": "stdout",
     "output_type": "stream",
     "text": [
      "질문: 주택담보대출의 이자율은 얼마인가요?\n",
      "응답: 주택담보대출의 이자율은 최소 4.58%에서 최대 5.85%까지 변동합니다.\n",
      "\n",
      "질문: 가장 낮은 연이율의 상품을 추천해 주세요.\n",
      "응답: 홈드림모기지론 상품의 최소 연이율은 4.87%입니다.\n",
      "\n",
      "100000000 36 8333333.333333333\n",
      "질문: 이 상품의 월 상환액을 계산해 주세요. 보유 주택은 3억에 대출금은 1억이고 상환 기간은 36개월입니다.\n",
      "응답: \n",
      "\n",
      "월 상환액(최소): 2972458.40원\n",
      "월 상환액(최대): 3006527.34원\n",
      "\n"
     ]
    }
   ],
   "source": [
    "import json\n",
    "import re\n",
    "from typing import List, Dict, Any\n",
    "from langchain.llms import OpenAI\n",
    "from langchain.chat_models import ChatOpenAI\n",
    "from langchain.chains import RetrievalQA\n",
    "from langchain.embeddings import OpenAIEmbeddings\n",
    "from langchain.vectorstores import FAISS\n",
    "from langchain.schema import Document\n",
    "from langchain.prompts import PromptTemplate\n",
    "import math\n",
    "\n",
    "# import openai\n",
    "# openai.api_key = \"your-api-key-here\"\n",
    "\n",
    "# Load loan data from JSON file\n",
    "def load_loan_data(file_path: str) -> List[Dict[str, Any]]:\n",
    "    with open(file_path, 'r', encoding='utf-8') as file:\n",
    "        data_raw = json.load(file)\n",
    "    data_list = data_raw['result']['baseList']\n",
    "    data_option = data_raw['result']['optionList']\n",
    "    new_data = []\n",
    "    for data in data_list:\n",
    "        for option in data_option:\n",
    "            if data[\"fin_prdt_cd\"] == option[\"fin_prdt_cd\"]:\n",
    "                item_dict = data\n",
    "                for op_key in option:\n",
    "                    item_dict[op_key] = option[op_key]\n",
    "                new_data.append(item_dict)\n",
    "    return new_data\n",
    "\n",
    "# Preprocess loan data to create documents\n",
    "def create_documents(loan_data: List[Dict[str, Any]]) -> List[Document]:\n",
    "    documents = []\n",
    "    for product in loan_data:\n",
    "        content = f\"상품명: {product['fin_prdt_nm']}, 회사명: {product['kor_co_nm']}, 최소 연이율: {product.get('lend_rate_min', 'N/A')}, 최대 연이율: {product.get('lend_rate_max', 'N/A')}, 대출 한도: {product['loan_lmt']}, 설명: {product['loan_inci_expn']}\"\n",
    "        documents.append(Document(page_content=content))\n",
    "    return documents\n",
    "\n",
    "def extract_user_loan_info(query):\n",
    "    template = \"\"\"다음 글에서 대출금, 상환 기간, 보유 주택 가격을 찾아 정리하세요.\n",
    "    예시)\n",
    "    질문: 이 상품의 월 상환액을 계산해 주세요. 보유 주택은 3억에 대출금은 1억이고 상환 기간은 3년입니다.\n",
    "    답변: - 대출금: 100000000\\n- 상환 기간: 36개월\\n- 보유 주택 가격: 300000000\n",
    "    질문: {query}\"\"\"\n",
    "\n",
    "    prompt = PromptTemplate.from_template(template)\n",
    "\n",
    "    extracted_result = llm.predict(prompt.format(query=query))\n",
    "    # print(extracted_result)\n",
    "\n",
    "    principal = re.search(r'대출금: (\\d+)', extracted_result)\n",
    "    if not principal:\n",
    "        return None, None, None\n",
    "    months = re.search(r'상환 기간: (\\d+)', extracted_result)\n",
    "    house_price = re.search(r'보유 주택 가격: (\\d+)', extracted_result)\n",
    "\n",
    "    principal, months, house_price = map(int, [principal.group(1), months.group(1), house_price.group(1)])\n",
    "    LTV = house_price / months\n",
    "\n",
    "    # print(principal, months, LTV)\n",
    "    return principal, months, LTV\n",
    "\n",
    "# Calculate monthly repayment amount\n",
    "def calculate_monthly_repayment(principal: float, annual_rate: float, months: int) -> float:\n",
    "    monthly_rate = annual_rate / 12 / 100\n",
    "    if monthly_rate == 0:\n",
    "        return principal / months\n",
    "    return principal * (monthly_rate * math.pow(1 + monthly_rate, months)) / (math.pow(1 + monthly_rate, months) - 1)\n",
    "\n",
    "# Initialize LLM and vector store\n",
    "llm = ChatOpenAI(model_name=\"gpt-3.5-turbo\", temperature=0.3)  # Adjust temperature for response creativity\n",
    "loan_data = load_loan_data('fss_test.json')\n",
    "documents = create_documents(loan_data)\n",
    "vectorstore = FAISS.from_documents(documents, OpenAIEmbeddings())\n",
    "\n",
    "# Set up the RetrievalQA chain\n",
    "retrieval_qa = RetrievalQA.from_chain_type(\n",
    "    llm=llm,\n",
    "    chain_type=\"stuff\",\n",
    "    retriever=vectorstore.as_retriever(),\n",
    "    return_source_documents=True\n",
    ")\n",
    "\n",
    "# Define the main query handling function\n",
    "def handle_user_query(query: str) -> str:\n",
    "    \n",
    "    principal, months, LTV = extract_user_loan_info(query)\n",
    "    if principal and months and LTV:\n",
    "        query += f\"\"\"\n",
    "        ** 추가 정보 **\n",
    "        대출금: {principal}, 상환 기간: {months}, LTV: {LTV}\n",
    "        \"\"\"\n",
    "\n",
    "    response = retrieval_qa({\"query\": query})\n",
    "    answer = response['result']\n",
    "    source_docs = response['source_documents']\n",
    "    \n",
    "    # Extract relevant information for repayment calculation\n",
    "    min_annual_rate, max_annual_rate = 0, 0\n",
    "    for doc in source_docs:\n",
    "        if '최소 연이율' in doc.page_content:\n",
    "            min_annual_rate = float(re.search(r'최소 연이율: (\\d+.\\d+)', doc.page_content).group(1))\n",
    "        if '최대 연이율' in doc.page_content:\n",
    "            max_annual_rate = float(re.search(r'최대 연이율: (\\d+.\\d+)', doc.page_content).group(1))\n",
    "    \n",
    "    if principal is not None:\n",
    "        # answer = \"\"\n",
    "        if min_annual_rate:\n",
    "            monthly_repayment = calculate_monthly_repayment(principal, min_annual_rate, months)\n",
    "            answer += f\"\\n\\n월 상환액(최소): {monthly_repayment:.2f}원\"\n",
    "        if max_annual_rate:\n",
    "            monthly_repayment = calculate_monthly_repayment(principal, max_annual_rate, months)\n",
    "            answer += f\"\\n월 상환액(최대): {monthly_repayment:.2f}원\"\n",
    "    \n",
    "    # Optionally format the output to include source documents\n",
    "    source_texts = \"\\n\".join([doc.page_content for doc in source_docs])\n",
    "    # return f\"{answer}\\n\\n**참조 문서:**\\n{source_texts}\n",
    "    return answer\n",
    "\n",
    "# Example user queries\n",
    "queries = [\n",
    "    \"주택담보대출의 이자율은 얼마인가요?\",\n",
    "    \"가장 낮은 연이율의 상품을 추천해 주세요.\",\n",
    "    \"이 상품의 월 상환액을 계산해 주세요. 보유 주택은 3억에 대출금은 1억이고 상환 기간은 36개월입니다.\",\n",
    "]\n",
    "\n",
    "# Execute queries\n",
    "for query in queries:\n",
    "    response = handle_user_query(query)\n",
    "    print(f\"질문: {query}\\n응답: {response}\\n\")\n"
   ]
  },
  {
   "cell_type": "code",
   "execution_count": 12,
   "metadata": {},
   "outputs": [
    {
     "data": {
      "text/plain": [
       "'상품명: 홈드림모기지론, 회사명: 한화생명보험주식회사, 최소 연이율: 4.87, 최대 연이율: 5.37, 대출 한도: 감정가의 최고 70%까지 (담보물소재지, 대출금액, 고객신용, 소득 등에 따라 차등적용), 설명: 인지세(50%), 주택채권매입비용'"
      ]
     },
     "execution_count": 12,
     "metadata": {},
     "output_type": "execute_result"
    }
   ],
   "source": [
    "response.page_content"
   ]
  },
  {
   "cell_type": "code",
   "execution_count": 32,
   "metadata": {},
   "outputs": [
    {
     "data": {
      "text/plain": [
       "'3'"
      ]
     },
     "execution_count": 32,
     "metadata": {},
     "output_type": "execute_result"
    }
   ],
   "source": [
    "re.search(r'보유 주택 가격: (\\d+)', \"\"\"답변: \n",
    "- 대출금: 1억\n",
    "- 상환 기간: 36개월\n",
    "- 보유 주택 가격: 3억\"\"\").group(1)"
   ]
  },
  {
   "cell_type": "code",
   "execution_count": 31,
   "metadata": {},
   "outputs": [
    {
     "data": {
      "text/plain": [
       "{'dcls_month': '202410',\n",
       " 'fin_co_no': '0013174',\n",
       " 'fin_prdt_cd': 'WR0001D',\n",
       " 'kor_co_nm': '농협손해보험주식회사',\n",
       " 'fin_prdt_nm': '헤아림아파트론Ⅰ',\n",
       " 'join_way': '영업점',\n",
       " 'loan_inci_expn': '- 인지세 : 해당 세액의 50%\\n- 국민주택채권매입비\\n- 근저당권 말소비용',\n",
       " 'erly_rpay_fee': '- 중도상환원금 X 1.2%(변동), 1.4%(고정) X (잔여기간/대출기간)\\n- 대출일로부터 1년 경과후 최초대출금액의 50%까지 면제\\n- 대출일로부터 3년 경과시 전액 면제',\n",
       " 'dly_rate': '- 연체기간에 관계없이 연체일수 X (채무자 대출금리 + 3%)÷365(윤년은 366)\\n- 지연배상금률이 연 17%를 초과하는 경우에는 연 17%를 적용',\n",
       " 'loan_lmt': 'LTV 30% ~ 70% \\n - 지역별 차등적용',\n",
       " 'dcls_strt_day': '20241017',\n",
       " 'dcls_end_day': None,\n",
       " 'fin_co_subm_day': '202410171600',\n",
       " 'mrtg_type': 'A',\n",
       " 'mrtg_type_nm': '아파트',\n",
       " 'rpay_type': 'D',\n",
       " 'rpay_type_nm': '분할상환방식',\n",
       " 'lend_rate_type': 'C',\n",
       " 'lend_rate_type_nm': '변동금리',\n",
       " 'lend_rate_min': 3.79,\n",
       " 'lend_rate_max': 6.3,\n",
       " 'lend_rate_avg': 3.77}"
      ]
     },
     "execution_count": 31,
     "metadata": {},
     "output_type": "execute_result"
    }
   ],
   "source": [
    "loan_data"
   ]
  },
  {
   "cell_type": "code",
   "execution_count": 6,
   "metadata": {},
   "outputs": [],
   "source": [
    "# OpenAI Embeddings를 통해 임베딩 생성\n",
    "embeddings = OpenAIEmbeddings()\n",
    "\n",
    "# FAISS 벡터스토어에 문서들을 인덱싱\n",
    "vectorstore = FAISS.from_documents(documents, embeddings)\n"
   ]
  },
  {
   "cell_type": "code",
   "execution_count": 7,
   "metadata": {},
   "outputs": [],
   "source": [
    "def calculate_monthly_repayment(principal, annual_rate, years):\n",
    "    monthly_rate = annual_rate / 12 / 100\n",
    "    months = years * 12\n",
    "    monthly_payment = principal * monthly_rate * (1 + monthly_rate)**months / ((1 + monthly_rate)**months - 1)\n",
    "    return round(monthly_payment, 2)\n"
   ]
  },
  {
   "cell_type": "code",
   "execution_count": 9,
   "metadata": {},
   "outputs": [
    {
     "name": "stdout",
     "output_type": "stream",
     "text": [
      "대출금 100000000원에 대한 월 상환액은 575345.67원입니다. 기간: 20년, 이자율: 3.41%\n"
     ]
    },
    {
     "name": "stderr",
     "output_type": "stream",
     "text": [
      "C:\\Users\\SSAFY\\AppData\\Local\\Temp\\ipykernel_13472\\1442227940.py:9: LangChainDeprecationWarning: This class is deprecated. See the following migration guides for replacements based on `chain_type`:\n",
      "stuff: https://python.langchain.com/docs/versions/migrating_chains/stuff_docs_chain\n",
      "map_reduce: https://python.langchain.com/docs/versions/migrating_chains/map_reduce_chain\n",
      "refine: https://python.langchain.com/docs/versions/migrating_chains/refine_chain\n",
      "map_rerank: https://python.langchain.com/docs/versions/migrating_chains/map_rerank_docs_chain\n",
      "\n",
      "See also guides on retrieval and question-answering here: https://python.langchain.com/docs/how_to/#qa-with-rag\n",
      "  qa_chain = load_qa_chain(llm, chain_type=\"stuff\", prompt=prompt_template)\n"
     ]
    }
   ],
   "source": [
    "# 사용자 정의 프롬프트 템플릿 설정\n",
    "prompt_template = PromptTemplate(\n",
    "    input_variables=[\"context\", \"question\"],\n",
    "    template=\"사용자가 문의한 내용에 맞는 정보를 제공해 주세요:\\n\\n{context}\\n\\n질문: {question}\"\n",
    ")\n",
    "\n",
    "# LLM과 프롬프트를 이용한 QA 체인 구성\n",
    "llm = ChatOpenAI(model=\"gpt-4o-mini\", temperature=0.3)\n",
    "qa_chain = load_qa_chain(llm, chain_type=\"stuff\", prompt=prompt_template)\n",
    "\n",
    "# # RAG Chain 구성\n",
    "# retriever = vectorstore.as_retriever(search_type=\"similarity\", search_kwargs={\"k\": 3})\n",
    "# qa_chain = RetrievalQA.from_chain_type(\n",
    "#     llm=ChatOpenAI(model=\"gpt-4o-mini\", temperature=0.3),\n",
    "#     chain_type=\"stuff\",\n",
    "#     retriever=retriever,\n",
    "#     prompt=prompt_template\n",
    "# )\n",
    "\n",
    "# 사용자가 입력한 질문을 처리하는 함수\n",
    "def handle_user_query(query, principal=None, annual_rate=None, years=None):\n",
    "    # 대출 계산 질문이 있는 경우 월 상환액 계산 수행\n",
    "    if \"상환액\" in query and principal and annual_rate and years:\n",
    "        monthly_payment = calculate_monthly_repayment(principal, annual_rate, years)\n",
    "        return f\"대출금 {principal}원에 대한 월 상환액은 {monthly_payment}원입니다. 기간: {years}년, 이자율: {annual_rate}%\"\n",
    "\n",
    "    # RAG 시스템을 통해 일반적인 금융 질문 답변 생성\n",
    "    response = qa_chain({\"query\": query})\n",
    "    return response[\"result\"]\n",
    "\n",
    "# 예시 질문과 계산 수행\n",
    "query = \"이 상품의 상환액을 계산해주세요\"\n",
    "response = handle_user_query(query, principal=100000000, annual_rate=3.41, years=20)\n",
    "print(response)\n"
   ]
  },
  {
   "cell_type": "code",
   "execution_count": null,
   "metadata": {},
   "outputs": [],
   "source": []
  }
 ],
 "metadata": {
  "kernelspec": {
   "display_name": "venv",
   "language": "python",
   "name": "python3"
  },
  "language_info": {
   "codemirror_mode": {
    "name": "ipython",
    "version": 3
   },
   "file_extension": ".py",
   "mimetype": "text/x-python",
   "name": "python",
   "nbconvert_exporter": "python",
   "pygments_lexer": "ipython3",
   "version": "3.9.13"
  }
 },
 "nbformat": 4,
 "nbformat_minor": 2
}
