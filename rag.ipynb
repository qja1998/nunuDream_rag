{
 "cells": [
  {
   "cell_type": "code",
   "execution_count": 52,
   "metadata": {},
   "outputs": [
    {
     "name": "stdout",
     "output_type": "stream",
     "text": [
      "[{'text': 'Name, Age, Address'}, {'text': 'Alice, 30, NY'}, {'text': 'Bob, 25, LA'}]\n"
     ]
    }
   ],
   "source": [
    "from langchain.text_splitter import TextSplitter\n",
    "\n",
    "class DocumentSplitter(TextSplitter):\n",
    "    def split_text(self, text: str):\n",
    "        # 예시로 CSV를 한 행씩 분리하는 방법\n",
    "        rows = text.split(\"\\n\")\n",
    "        return [{\"text\": row} for row in rows if row]\n",
    "\n",
    "csv_data = \"Name, Age, Address\\nAlice, 30, NY\\nBob, 25, LA\"\n",
    "splitter = DocumentSplitter(chunk_size=50, chunk_overlap=0)\n",
    "chunks = splitter.split_text(csv_data)\n",
    "\n",
    "print(chunks)\n"
   ]
  },
  {
   "cell_type": "code",
   "execution_count": 1,
   "metadata": {},
   "outputs": [],
   "source": [
    "import os\n",
    "from langchain_community.document_loaders import TextLoader, JSONLoader, CSVLoader\n",
    "from langchain.text_splitter import RecursiveCharacterTextSplitter\n",
    "from langchain_community.vectorstores import Chroma\n",
    "from langchain_openai import OpenAIEmbeddings, ChatOpenAI\n",
    "from langchain.chains import ConversationalRetrievalChain\n",
    "from langchain.memory import ConversationBufferMemory, ConversationSummaryMemory, ConversationSummaryBufferMemory\n",
    "from langchain.prompts import PromptTemplate\n",
    "from langchain.chains import RetrievalQA\n",
    "\n",
    "# OpenAI API 키 설정\n",
    "# os.environ[\"OPENAI_API_KEY\"] = \"your-api-key-here\"\n",
    "from dotenv import load_dotenv\n",
    "load_dotenv()\n",
    "\n",
    "llm = ChatOpenAI(model=\"gpt-4o-mini\", temperature=0.5)  # 금융 추천에 적합한 톤과 안정성을 유지"
   ]
  },
  {
   "cell_type": "code",
   "execution_count": 2,
   "metadata": {},
   "outputs": [],
   "source": [
    "loader = CSVLoader(\"./data/fss_data.csv\")\n",
    "documents = loader.load()\n",
    "\n",
    "text_splitter = RecursiveCharacterTextSplitter(chunk_size=1000, chunk_overlap=100)\n",
    "splits = text_splitter.split_documents(documents)\n",
    "\n",
    "embeddings = OpenAIEmbeddings()\n",
    "\n",
    "vectorstore = Chroma.from_documents(documents=splits, embedding=embeddings)"
   ]
  },
  {
   "cell_type": "code",
   "execution_count": 66,
   "metadata": {},
   "outputs": [],
   "source": [
    "memory = ConversationBufferMemory(memory_key=\"chat_history\", return_messages=True)"
   ]
  },
  {
   "cell_type": "code",
   "execution_count": null,
   "metadata": {},
   "outputs": [],
   "source": [
    "def get_purpose(question):\n",
    "    llm = ChatOpenAI(model=\"gpt-4o-mini\", temperature=0)\n",
    "    prompt = \"\"\"\n",
    "        Q의 목적을 다음 중 선택하여 출력하시오.\n",
    "        - 예금/적금 추천\n",
    "        - 계산\n",
    "            (확실하게 계산을 해야 하는 경우)\n",
    "        - 기타\n",
    "            (대부분의 일반적인 경우)\n",
    "        오직 이 중에 하나를 선택해서 그 것만을 출력합니다.\n",
    "        Q.\n",
    "    \"\"\"\n",
    "    result = llm.invoke(prompt + question)\n",
    "    return result.content\n",
    "\n",
    "\n",
    "def get_price(question):\n",
    "    llm = ChatOpenAI(model=\"gpt-4o-mini\", temperature=0)\n",
    "    prompt = \"\"\"\n",
    "        Q에서 총 투자금을 추출합니다. 투자금만 -원으로 출력합니다.\n",
    "        Q.\n",
    "    \"\"\"\n",
    "    result = llm.invoke(prompt + question)\n",
    "    return result.content"
   ]
  },
  {
   "cell_type": "code",
   "execution_count": 215,
   "metadata": {},
   "outputs": [],
   "source": [
    "system_message_dict = {\n",
    "    \"예금/적금 추천\": \"\"\"\n",
    "    당신은 사실만을 말하는 친절한 금융 전문가입니다. **이전 대화**를 적극 참고하여, 주어진 {context}를 바탕으로 사용자에게 적절한 금융 상품을 추천하는 역할을 합니다.\n",
    "    - {context}에서 [fin_prdt_cd]이 같은 optionList를 찾아 다양한 정보를 비교하세요.\n",
    "    - 하나의 상품으로 목표 달성이 어려우면 **여러 개**의 다양한 상품을 추천하여 목표를 달성하도록 합니다.\n",
    "    - {question}과 [history]에서 아래 정보가 모두 주어지지 않으면 필요한 정보를 요구합니다.\n",
    "        - 예금/적금\n",
    "        - 적금 종류\n",
    "        - 저축 금액\n",
    "        - 저축 기간\n",
    "        * 추천할 수 있는 정도의 정보가 모이면 추천을 시작합니다.\n",
    "    \n",
    "    - {context}에서 추출한 **실제 회사명**과 **상품명** 만을 사용합니다. 임의로 예시를 만들면 절대 안됩니다.\n",
    "    - 금리와 같은 중요한 정보를 명확하게 제공합니다.\n",
    "    - 특이사항을 제공합니다.\n",
    "    - 제품을 요약합니다.\n",
    "    - \n",
    "    사용자의 상황을 분석하고,\n",
    "    예금과 적금을 적절하게 사용하여 기간 내에 금액을 만드는 전략 시나리오를 만듭니다.\n",
    "    이후 해당 시나리오를 수행할 수 있는 금융 상품을 추천합니다.\n",
    "    \"\"\",\n",
    "    \"계산\": \"\"\"\n",
    "    당신은 유능한 금융 전문가입니다. 사용자의 {question}이 적금인지 예금인지 판단하고 기간과 금액, 이자율에 따라 얻을 수 있는 이득을 계산합니다.\n",
    "    **이전 대화**를 적극 참고하여\n",
    "    예금은 예치금과 기간이 주어질 것이고, 적금은 월 저축금과 기간이 주어질 것입니다.\n",
    "    - 각 이득을 계산하는 과정을 수식과 함께 자세히 서술\n",
    "    - 이자율 대신 상품명이 있다면 {context}에서 찾아 계산\n",
    "    \"\"\",\n",
    "    \"기타\": \"당신은 친절한 금융 전문가입니다. 가능하면 {question}에 대해 {context}를 기반으로 대답합니다. 굳이 억지로 말을 만들지 않습니다.\"\n",
    "}"
   ]
  },
  {
   "cell_type": "code",
   "execution_count": null,
   "metadata": {},
   "outputs": [],
   "source": [
    "\"계산\"할 때는\n",
    "    당신은 정밀한 금융 전문가입니다. 사용자가 요청한 {question}에 따라 예금과 적금 중 어떤 상품인지 판단하여, 기간, 금액, 그리고 이자율을 토대로 사용자에게 얻을 수 있는 이득을 계산합니다.\n",
    "    \n",
    "    - 사용자의 {chat_history}를 참고하여 예금과 적금에 대한 세부 정보를 확보합니다.\n",
    "    - 사용자가 특정 상품을 언급했다면 {context}에서 관련 정보를 확인하여 이자율을 찾아 계산에 반영합니다.\n",
    "    - 이득을 계산하는 과정과 계산 수식을 상세히 서술하며, 명확하고 직관적으로 설명합니다.\n",
    "\n",
    "\"일반적인 경우\"\n",
    "    \"당신은 고객의 재정적 질문에 대해 신뢰할 수 있는 정보를 제공하는 금융 전문가입니다. 가능하다면 {question}에 대해 {context}를 기반으로 답변하고, 필요한 추가 정보를 요청하거나 명확한 설명을 제공하세요.\""
   ]
  },
  {
   "cell_type": "code",
   "execution_count": 3,
   "metadata": {},
   "outputs": [],
   "source": [
    "system_message = '''\n",
    "* {chat_history} 기록을 적극 참고하여, 필요할 경우 추가 정보를 요구하거나 관련된 질문을 유도하세요.\n",
    "\n",
    "당신은 고객의 재무 목표 달성을 돕는 친절하고 정보에 정통한 금융 전문가입니다. {chat_history}를 참조하여, 주어진 {context}와 관련된 정보를 바탕으로 사용자에게 맞춤형 금융 상품을 추천합니다.\n",
    "{question}을 분석하여 답을 해주세요.\n",
    "1. {context}에서 [fin_prdt_cd]이 같은 optionList를 확인하여 최적의 상품을 비교하고 선정합니다.\n",
    "2. {question}과 {chat_history}에 추천을 시작하기에 충분한 정보가 확보되면 상품 추천을 진행합니다. 은행명과 상품명을 명시합니다.\n",
    "    - 금리와 같은 필수 정보를 명확하게 제공하며, 추천하는 이유와 특이사항을 설명합니다.\n",
    "    - 제안된 각 상품의 요약과 함께 사용자의 상황에 맞춘 금액 달성 전략 시나리오를 제시할 수 있습니다.\n",
    "    - 단일 상품으로 목표 달성이 어려울 경우, {context}에서 여러 개의 상품을 조합할 수 있습니다.\n",
    "* 모든 정보는 {context} 기반으로 답변합니다.\n",
    "'''\n"
   ]
  },
  {
   "cell_type": "code",
   "execution_count": 230,
   "metadata": {},
   "outputs": [],
   "source": [
    "loader_bank = CSVLoader(\"./data/bank_eval.csv\", encoding='cp949')\n",
    "documents_bank = loader_bank.load()\n",
    "\n",
    "\n",
    "def get_price(question):\n",
    "    llm = ChatOpenAI(model=\"gpt-4o-mini\", temperature=0)\n",
    "    prompt = \"\"\"\n",
    "        Q에서 총 투자금을 추출한 합산이 4500만원을 넘으면 \"주의\"를 출력합니다.\n",
    "        아닌 경우에는 모두 \"보통\"으로 출력합니다.\n",
    "        Q.\n",
    "    \"\"\"\n",
    "    result = llm.invoke(prompt + question)\n",
    "    return result.content\n",
    "\n",
    "\n",
    "embeddings_bank = OpenAIEmbeddings()\n",
    "vectorstore_bank = Chroma.from_documents(documents=documents_bank, embedding=embeddings_bank)\n",
    "def get_eval(question):\n",
    "    system_message = \"\"\"\n",
    "        1. {question}에서 등장한 은행을 추출합니다.\n",
    "        2. {context}에거 추출한 은행의 정보를 찾습니다.\n",
    "        평가 방법:\n",
    "        재무상태표, 손익계산서, 자본적정성평가, 수익성평가, 여신건전성 평가 등을 종합하여 은행 건전성 평가에 활용\n",
    "\n",
    "        국내 일반은행 평균\n",
    "        BIS : 16.64\n",
    "        고정이하여신 : 0.52\n",
    "        ROA : 0.58\n",
    "        NIM : 1.60\n",
    "\n",
    "        국내 저축은행 평균\n",
    "        BIS : 15.00\n",
    "        고정이하여신 : 11.53\n",
    "        ROA : 0.00  **(-)인 기관이 있음. \n",
    "\n",
    "        BIS(자기자본비율) 최소준수 비율 8%, 높을수록 좋다.\n",
    "        NPL(고정이하여신비율)은 낮을수록 좋다.\n",
    "        ROA(총자산이익률)은 높을수록 좋다.\n",
    "        NIM(순이자마진)은 낮을수록 좋다.\n",
    "\n",
    "        금융 평가 전문가인 당신은 추출한 은행의 정보를 평가하여 제공합니다.\n",
    "    \"\"\"\n",
    "    qa_prompt = PromptTemplate(\n",
    "        input_variables=[\"context\", \"question\"],\n",
    "        template=system_message\n",
    "    )\n",
    "\n",
    "    # Set up RetrievalQA with the correct combination of LLM and retriever\n",
    "    chain = RetrievalQA.from_chain_type(\n",
    "        llm=llm,  # Pass the llm directly\n",
    "        retriever=vectorstore_bank.as_retriever(),\n",
    "        memory=memory,\n",
    "        chain_type_kwargs={\"prompt\": qa_prompt}\n",
    "    )\n",
    "\n",
    "    result = chain({'question': question, 'query': question})\n",
    "    return result['result']"
   ]
  },
  {
   "cell_type": "code",
   "execution_count": 4,
   "metadata": {},
   "outputs": [
    {
     "name": "stderr",
     "output_type": "stream",
     "text": [
      "/var/folders/xy/rqh8z9jx0mn_3fbtlzl6v7lc0000gn/T/ipykernel_19285/1038692961.py:6: LangChainDeprecationWarning: Please see the migration guide at: https://python.langchain.com/docs/versions/migrating_memory/\n",
      "  memory = ConversationBufferMemory(memory_key=\"chat_history\", input_key=\"question\", return_messages=True)\n",
      "/var/folders/xy/rqh8z9jx0mn_3fbtlzl6v7lc0000gn/T/ipykernel_19285/1038692961.py:27: LangChainDeprecationWarning: The method `Chain.__call__` was deprecated in langchain 0.1.0 and will be removed in 1.0. Use :meth:`~invoke` instead.\n",
      "  result = chain({'question': question, 'query': question, 'chat_history': memory.chat_memory.messages})['result']\n"
     ]
    },
    {
     "name": "stdout",
     "output_type": "stream",
     "text": [
      "'질문: 10년 안에 1억 모으기'\n",
      "('답변: 10년 안에 1억 원을 모으기 위한 전략을 세우기 위해, 현재 제공된 금융 상품 정보를 바탕으로 분석해 보겠습니다. \\n'\n",
      " '\\n'\n",
      " '### 목표: 10년(120개월) 동안 1억 원 모으기\\n'\n",
      " '\\n'\n",
      " '1. **목표 금액**: 1억 원\\n'\n",
      " '2. **기간**: 10년 (120개월)\\n'\n",
      " '\\n'\n",
      " '### 월 적립금 계산\\n'\n",
      " '1억 원을 120개월 동안 모으기 위해 필요한 월 적립금은 다음과 같이 계산할 수 있습니다.\\n'\n",
      " '\\n'\n",
      " '\\\\[\\n'\n",
      " '\\\\text{필요한 월 적립금} = \\\\frac{100,000,000}{120} = 833,333.33 \\\\text{원}\\n'\n",
      " '\\\\]\\n'\n",
      " '\\n'\n",
      " '이 금액은 단순히 월 적립금만으로 계산한 것이며, 이자 수익을 고려하지 않았습니다. \\n'\n",
      " '\\n'\n",
      " '### 금융 상품 분석\\n'\n",
      " '현재 제공된 상품은 다음과 같습니다:\\n'\n",
      " '\\n'\n",
      " '1. **아이엠뱅크 - 내손안에 적금**\\n'\n",
      " '   - **가입 방법**: 스마트폰\\n'\n",
      " '   - **이자율**: 3.31% (12개월 기준)\\n'\n",
      " '   - **가입 한도**: 월 100만 원 (최소 10만 원 이상)\\n'\n",
      " '   - **최고 우대금리**: 연 0.55%p\\n'\n",
      " '   - **적립 방식**: 정액적립식\\n'\n",
      " '\\n'\n",
      " '2. **아이엠뱅크 - 영플러스적금**\\n'\n",
      " '   - **가입 방법**: 영업점, 인터넷, 스마트폰\\n'\n",
      " '   - **이자율**: 3.51% (12개월 기준)\\n'\n",
      " '   - **가입 한도**: 월 50만 원 (최소 1만 원 이상)\\n'\n",
      " '   - **최고 우대금리**: 연 0.55%p\\n'\n",
      " '   - **적립 방식**: 자유적립식\\n'\n",
      " '\\n'\n",
      " '### 추천 전략\\n'\n",
      " '1. **아이엠뱅크 - 내손안에 적금**: \\n'\n",
      " '   - 월 100만 원 적립 시, 12개월 후 이자 포함 약 1,033,100원 (3.31% 이자율 기준) 적립.\\n'\n",
      " '   - 10년 동안 총 1억 원을 모으기 위해서는 이 상품을 통해 매달 최대 한도인 100만 원을 적립할 수 있습니다.\\n'\n",
      " '\\n'\n",
      " '2. **아이엠뱅크 - 영플러스적금**: \\n'\n",
      " '   - 월 50만 원 적립 시, 12개월 후 이자 포함 약 1,025,500원 (3.51% 이자율 기준) 적립.\\n'\n",
      " '   - 이 상품은 만 29세 이하의 개인만 가입 가능하므로, 해당 조건에 맞는 경우에만 활용할 수 있습니다.\\n'\n",
      " '\\n'\n",
      " '### 결론\\n'\n",
      " '- **아이엠뱅크 - 내손안에 적금**을 통해 매달 100만 원씩 적립하는 것이 가장 효과적입니다. \\n'\n",
      " '- 10년 동안 매달 100만 원을 적립하면 총 적립금은 1억 원이 되며, 이자 수익을 포함하면 목표 달성이 가능합니다.\\n'\n",
      " '- **이자 수익을 고려한 시나리오**: 매달 100만 원씩 적립하고, 3.31%의 이자율을 적용받을 경우 이자 수익이 발생하여 목표 '\n",
      " '금액에 도달할 수 있습니다.\\n'\n",
      " '\\n'\n",
      " '이 외에도 추가적인 질문이나 다른 금융 상품에 대한 정보가 필요하시면 언제든지 말씀해 주세요!')\n",
      "'--------------------------------------------------'\n",
      "'질문: 예금 상품은 어떤 것들이 있나요?'\n",
      "('답변: 고객님, 10년 안에 1억 원을 모으기 위한 금융 상품 추천을 위해 예가람저축은행의 정기예금 상품을 분석해 보았습니다. 다음은 '\n",
      " '해당 상품의 요약입니다.\\n'\n",
      " '\\n'\n",
      " '### 예가람저축은행 정기예금 상품\\n'\n",
      " '\\n'\n",
      " '1. **상품명**: 정기예금\\n'\n",
      " '2. **가입 방법**: 영업점\\n'\n",
      " '3. **이자율**:\\n'\n",
      " '   - **단리**: 2.95% (24개월)\\n'\n",
      " '   - **단리**: 3.55% (12개월)\\n'\n",
      " '   - **복리**: 2.95% (24개월)\\n'\n",
      " '   - **복리**: 3.55% (12개월)\\n'\n",
      " '4. **특이사항**:\\n'\n",
      " '   - 만기 후 1개월 이내: 가입 당시 약정금리 또는 만기 시 동일상품 동일계약기간의 신규 약정금리 중 낮은 이율 적용\\n'\n",
      " '   - 만기 후 1개월 초과 시: 보통예금금리 적용\\n'\n",
      " '   - 예적금 만기 후 원금 12개월 이상 재예치 시: 0.1% 우대\\n'\n",
      " '   - 영업점 전용 상품\\n'\n",
      " '5. **가입 제한**: 제한 없음\\n'\n",
      " '\\n'\n",
      " '### 추천 전략\\n'\n",
      " '\\n'\n",
      " '1. **목표 금액**: 1억 원\\n'\n",
      " '2. **기간**: 10년 (120개월)\\n'\n",
      " '3. **필요한 월 적립금**: \\n'\n",
      " '   - 목표 금액 1억 원을 120개월 동안 모으기 위해 필요한 월 적립금은 약 833,333.33원입니다. \\n'\n",
      " '   - 이 금액은 이자 수익을 고려하지 않은 단순 계산입니다.\\n'\n",
      " '\\n'\n",
      " '### 시나리오 제안\\n'\n",
      " '\\n'\n",
      " '- **정기예금 활용**: \\n'\n",
      " '   - 12개월 단리 상품에 매달 833,333.33원을 적립할 경우, 1년 후 이자 수익을 포함하여 약 1,000,000원 이상 적립 '\n",
      " '가능.\\n'\n",
      " '   - 10년 동안 매달 같은 금액을 적립하고, 이자 수익을 고려하면 목표 금액인 1억 원에 도달할 수 있습니다.\\n'\n",
      " '\\n'\n",
      " '- **복리 상품 활용**: \\n'\n",
      " '   - 12개월 복리 상품에 매달 적립 시, 이자 수익이 더해져 목표 달성에 유리합니다. \\n'\n",
      " '   - 10년 동안의 복리 효과를 통해 이자 수익이 증가하므로, 목표 금액에 도달할 가능성이 높아집니다.\\n'\n",
      " '\\n'\n",
      " '### 결론\\n'\n",
      " '\\n'\n",
      " '예가람저축은행의 정기예금 상품은 안정적인 수익을 제공하며, 목표 금액 달성에 적합한 상품입니다. 고객님의 상황에 맞춰 월 적립금을 '\n",
      " '조정하거나, 다른 금융 상품과의 조합을 고려해 볼 수도 있습니다. 추가적인 질문이나 다른 금융 상품에 대한 정보가 필요하시면 언제든지 '\n",
      " '말씀해 주세요!')\n",
      "'--------------------------------------------------'\n"
     ]
    }
   ],
   "source": [
    "from langchain.chains import RetrievalQA\n",
    "from langchain.prompts import PromptTemplate\n",
    "from langchain.chains.llm import LLMChain\n",
    "from pprint import pprint\n",
    "\n",
    "memory = ConversationBufferMemory(memory_key=\"chat_history\", input_key=\"question\", return_messages=True)\n",
    "llm = ChatOpenAI(model=\"gpt-4o-mini\", temperature=0.3)\n",
    "\n",
    "qa_prompt = PromptTemplate(\n",
    "        input_variables=[\"context\", \"question\", \"chat_history\"],\n",
    "        template=system_message\n",
    ")\n",
    "\n",
    "chain = RetrievalQA.from_chain_type(\n",
    "    llm=llm,  # Pass the llm directly\n",
    "    retriever=vectorstore.as_retriever(),\n",
    "    memory=memory,\n",
    "    chain_type_kwargs={\"prompt\": qa_prompt, \"memory\": memory}\n",
    ")\n",
    "\n",
    "\n",
    "def qna(question):\n",
    "    # purpose = get_purpose(question).replace('-', '').strip()\n",
    "\n",
    "    # print('목적:', purpose)\n",
    "\n",
    "    result = chain({'question': question, 'query': question, 'chat_history': memory.chat_memory.messages})['result']\n",
    "\n",
    "    # if \"주의\" in get_price(result):\n",
    "    #     result += '\\n' + get_eval(result)\n",
    "    return result\n",
    "\n",
    "while True:\n",
    "    question = input('질문')\n",
    "    if question == '끝':\n",
    "        break\n",
    "    result = qna(question)\n",
    "    pprint(f\"질문: {question}\")\n",
    "    pprint(f\"답변: {result}\")\n",
    "    pprint(\"-\" * 50)\n"
   ]
  },
  {
   "cell_type": "code",
   "execution_count": 166,
   "metadata": {},
   "outputs": [],
   "source": [
    "chat_history = memory.chat_memory.messages"
   ]
  },
  {
   "cell_type": "code",
   "execution_count": 167,
   "metadata": {},
   "outputs": [
    {
     "data": {
      "text/plain": [
       "[HumanMessage(content='1000만원 모으기', additional_kwargs={}, response_metadata={}),\n",
       " AIMessage(content='\"기타\": \"당신은 고객의 재정적 질문에 대해 신뢰할 수 있는 정보를 제공하는 금융 전문가입니다. 가능하다면 1000만원 모으기에 대해 에 액면금액을 지급한다.\\n\\n미쳐 장기금리가 변동하게 된다.\\n\\n전히 50만 원이지만, 복리를 적용한 상품은 1,050만 원에 5% 이자가 적용되기 때문에 이자가 52만 5천원이 됩니다. 이러한 과정이 5년간 반복되어 최종적 로 얻게 되는 이 자는 단리의 경우 250만 원이지만 복리의 경우는 276만 2천원 가량이 됩니다.\\n\\n5천 원, 분기납 1 만5천 원, 반기납 3만 원)가 적용 ?세제 혜택: 1인당 납입금액 최대 5,000만 원까지 비과세 ?가입 시 유의사항: 가입대상의 소득수준을 초과한다고 인정되는 경우 가입 불가를 기반으로 답변하고, 필요한 추가 정보를 요청하거나 명확한 설명을 제공하세요.\"', additional_kwargs={}, response_metadata={}),\n",
       " HumanMessage(content='1000만원 모으기', additional_kwargs={}, response_metadata={}),\n",
       " AIMessage(content='\"기타\": \"당신은 고객의 재정적 질문에 대해 신뢰할 수 있는 정보를 제공하는 금융 전문가입니다. 가능하다면 1000만원 모으기에 대해 에 액면금액을 지급한다.\\n\\n미쳐 장기금리가 변동하게 된다.\\n\\n전히 50만 원이지만, 복리를 적용한 상품은 1,050만 원에 5% 이자가 적용되기 때문에 이자가 52만 5천원이 됩니다. 이러한 과정이 5년간 반복되어 최종적 로 얻게 되는 이 자는 단리의 경우 250만 원이지만 복리의 경우는 276만 2천원 가량이 됩니다.\\n\\n5천 원, 분기납 1 만5천 원, 반기납 3만 원)가 적용 ?세제 혜택: 1인당 납입금액 최대 5,000만 원까지 비과세 ?가입 시 유의사항: 가입대상의 소득수준을 초과한다고 인정되는 경우 가입 불가를 기반으로 답변하고, 필요한 추가 정보를 요청하거나 명확한 설명을 제공하세요.\"', additional_kwargs={}, response_metadata={}),\n",
       " HumanMessage(content='적금 추천', additional_kwargs={}, response_metadata={}),\n",
       " AIMessage(content='- 기타', additional_kwargs={}, response_metadata={}),\n",
       " HumanMessage(content='적금 추천', additional_kwargs={}, response_metadata={}),\n",
       " AIMessage(content='- 기타', additional_kwargs={}, response_metadata={})]"
      ]
     },
     "execution_count": 167,
     "metadata": {},
     "output_type": "execute_result"
    }
   ],
   "source": [
    "chat_history"
   ]
  },
  {
   "cell_type": "code",
   "execution_count": 129,
   "metadata": {},
   "outputs": [
    {
     "data": {
      "text/plain": [
       "'이해했습니다. 사용자의 요청에 따라 적절한 정보를 제공하겠습니다. \\n\\n사용자가 언급한 word: 물가안정목표제와 word: 기초가격에 대한 구별 및 추정에 대한 정보가 필요합니다. 추가 정보를 제공해 주시면, 맞춤형 금융 상품 추천이나 계산을 진행할 수 있습니다. \\n\\n다음 정보를 알려주실 수 있나요?\\n- 예금 또는 적금 여부\\n- 적금의 유형\\n- 저축 금액 또는 월별 저축 금액\\n- 저축 기간\\n\\n이 정보를 바탕으로 최적의 상품을 추천해 드리겠습니다.'"
      ]
     },
     "execution_count": 129,
     "metadata": {},
     "output_type": "execute_result"
    }
   ],
   "source": [
    "result['answer']"
   ]
  },
  {
   "cell_type": "code",
   "execution_count": null,
   "metadata": {},
   "outputs": [
    {
     "name": "stdout",
     "output_type": "stream",
     "text": [
      "대한저축은행-장학적금자유식  \n",
      "우리은행-WON플러스예금\n"
     ]
    }
   ],
   "source": [
    "tmp = \"\"\"S:500만원을 1년 안에 모으고 싶으시다면,\n",
    "적절한 적금 상품은 대한저축은행의 장학적금자유식입니다.\n",
    "해당 상품은 2.4의 높은 금리를 가지고 있으며, 만19세 미만의 청소년만 가입 가능하고,\n",
    "창구에서만 가입할 수 있는 특징이 있어 사용자님에게 적절하다고 판단됩니다. 추가적으로 우리은행의 WON플러스예금을 추천드립니다\"\"\"\n",
    "\n",
    "print(chain(\"S:\" + tmp + \"\\nS에서 은행명과 예적금을 모두 추출\\n은행명-예적금\")['result'])"
   ]
  },
  {
   "cell_type": "code",
   "execution_count": 13,
   "metadata": {},
   "outputs": [
    {
     "name": "stdout",
     "output_type": "stream",
     "text": [
      "청년이시군요! 어떤 도움이 필요하신가요?\n",
      "모르겠습니다.\n"
     ]
    }
   ],
   "source": [
    "print(chain(\"저는 청년입니다.\")['result'])\n",
    "print(chain(\"제가 누구죠?\")['result'])"
   ]
  },
  {
   "cell_type": "code",
   "execution_count": 41,
   "metadata": {},
   "outputs": [
    {
     "name": "stdout",
     "output_type": "stream",
     "text": [
      "은행명: 대한저축은행  \n",
      "예적금 형태: 장학적금자유식\n"
     ]
    }
   ],
   "source": [
    "print('은행명: 대한저축은행  \\n예적금 형태: 장학적금자유식')"
   ]
  },
  {
   "cell_type": "code",
   "execution_count": null,
   "metadata": {},
   "outputs": [
    {
     "name": "stdout",
     "output_type": "stream",
     "text": [
      "\n",
      "질문 1: 청년에게 좋은 담보대출은 무엇인가요?\n",
      "답변 1: 청년에게 좋은 담보대출은 LTV 비율이 30%~70%인 대출 상품이 좋습니다. 또한 연 이자율이 0.8% ~ 1.5% 범위 내에 있는 대출 상품을 선택하는 것이 좋습니다. 이러한 조건을 충족하는 대출 상품을 찾아보시는 것이 좋습니다.\n",
      "--------------------------------------------------\n",
      "\n",
      "질문 2: 저는 월 500만원 정도를 벌고 있습니다. 주택이 4억원이고 2억 정도를 대출받고 싶을 때 이에 적절한 상품이 있나요?, 상환 기간은 30년으로 생각하고 있어요\n",
      "답변 2: 주택 가격이 4억원이고 2억 정도를 대출 받고 싶을 때, 월 수입이 500만원인 경우에는 대출 한도인 LTV 30%~70%를 고려해야 합니다. 주어진 상황에서는 4억원 중 2억을 대출 받고자 하므로 LTV 50%에 해당합니다. 따라서 대출 한도 내에서 대출을 받을 수 있습니다. \n",
      "\n",
      "다만, 월 수입이 500만원이고 대출 상환액을 감당할 수 있는지에 대한 판단은 개인의 재정 상황과 부담 가능 여부에 따라 다를 수 있습니다. 대출 상품의 이자율과 상환 기간 등을 고려하여 월 상환액을 계산하고, 개인의 재정 상황을 ganz히 고려하여 결정하는 것이 중요합니다.\n",
      "--------------------------------------------------\n",
      "\n",
      "질문 3: 그럼 월 상환액이 어느정도 되나요?\n",
      "답변 3: 주어진 컨텍스트에 따르면 월 상환액은 대출 원금에 대한 이자와 원금 상환액으로 구성됩니다. 이자율은 대출금리와 추가 이자율인 3%를 합산하여 계산됩니다. 대출 원금은 LTV 비율에 따라 30%에서 70% 사이로 결정되며, 대출 기간은 3년입니다. 따라서 월 상환액은 대출 원금과 이자를 합산하여 계산됩니다. 상환 시작일은 2024년 10월 21일이며, 상환 종료일은 지정되어 있지 않습니다. 최종 제출일은 2024년 10월 18일 11시입니다. 월 상환액을 정확히 계산하려면 대출 원금과 이자율을 고려하여 계산해야 합니다.\n",
      "--------------------------------------------------\n"
     ]
    }
   ],
   "source": [
    "chain = optimize_langchain_process()\n",
    "\n",
    "questions = [\n",
    "    \"청년에게 좋은 담보대출은 무엇인가요?\",\n",
    "    \"저는 월 500만원 정도를 벌고 있습니다. 주택이 4억원이고 2억 정도를 대출받고 싶을 때 이에 적절한 상품이 있나요?, 상환 기간은 30년으로 생각하고 있어요\",\n",
    "    \"그럼 월 상환액이 어느정도 되나요?\"\n",
    "]\n",
    "\n",
    "prompt_template = \"\"\"\n",
    "    당신은 친절한 금융 전문가입니다. 당신의 역할은 주어진 정보를 바탕으로 사용자에게 작절한 금융 상품을 추천하는 것입니다. {fin_prdt_cd}이 같은 optionList를 찾아 다양한 정보를 비교하세요\n",
    "    - 하나의 상품으로 목표 달성이 어려우면 여러 개의 상품을 추천하여 목표를 달성하도록 합니다.\n",
    "    - 다음 예시와 같이 다양한 상품을 추천하세요. {}는 내용이 들어갈 공간이며 내용을 채운 후에는 삭제합니다.\n",
    "    Q: info: {월급}, {예치금}, {기간}, {월 적립금}\n",
    "    저에게 적절한 {is_deopsit} 상품을 추천해주세요.\n",
    "    A: {금액}과 {기간}에 따라 추천드릴 {is_deposit} 상품은 {kor_co_nm}의 {fin_prdt_nm}입니다. 해당 상품은 {intr_rate}의 높은 금리를 가지고 있으며, {fin_prdt_info-_summation}과 같은 특징을 가지고 있어 사용자님에게 적절하다고 판단됩니다.\n",
    "    {intr_rate}의 이자율로 계산을 했을 때 {compute_benefit} 정도의 이득을 볼 수 있습니다.\n",
    "    가입 전에 {etc_note}과 같은 특이사항이 있으니 확인하시기 바랍니다. 이 상품으로는 목표 달성이 어려울 수 있으므로 다른 상품도 추천해드리겠습니다. {continue recommend}\n",
    "\"\"\"\n",
    "\n",
    "for i, question in enumerate(questions, 1):\n",
    "    result = chain({\"question\": question})\n",
    "    print(f\"\\n질문 {i}: {question}\")\n",
    "    print(f\"답변 {i}: {result['answer']}\")\n",
    "    print(\"-\" * 50)\n"
   ]
  },
  {
   "cell_type": "code",
   "execution_count": 55,
   "metadata": {},
   "outputs": [
    {
     "ename": "RuntimeError",
     "evalue": "Error loading ./data/경제금융용어.csv",
     "output_type": "error",
     "traceback": [
      "\u001b[0;31m---------------------------------------------------------------------------\u001b[0m",
      "\u001b[0;31mFileNotFoundError\u001b[0m                         Traceback (most recent call last)",
      "File \u001b[0;32m/opt/miniconda3/envs/rag/lib/python3.10/site-packages/langchain_community/document_loaders/csv_loader.py:134\u001b[0m, in \u001b[0;36mCSVLoader.lazy_load\u001b[0;34m(self)\u001b[0m\n\u001b[1;32m    133\u001b[0m \u001b[38;5;28;01mtry\u001b[39;00m:\n\u001b[0;32m--> 134\u001b[0m     \u001b[38;5;28;01mwith\u001b[39;00m \u001b[38;5;28;43mopen\u001b[39;49m\u001b[43m(\u001b[49m\u001b[38;5;28;43mself\u001b[39;49m\u001b[38;5;241;43m.\u001b[39;49m\u001b[43mfile_path\u001b[49m\u001b[43m,\u001b[49m\u001b[43m \u001b[49m\u001b[43mnewline\u001b[49m\u001b[38;5;241;43m=\u001b[39;49m\u001b[38;5;124;43m\"\u001b[39;49m\u001b[38;5;124;43m\"\u001b[39;49m\u001b[43m,\u001b[49m\u001b[43m \u001b[49m\u001b[43mencoding\u001b[49m\u001b[38;5;241;43m=\u001b[39;49m\u001b[38;5;28;43mself\u001b[39;49m\u001b[38;5;241;43m.\u001b[39;49m\u001b[43mencoding\u001b[49m\u001b[43m)\u001b[49m \u001b[38;5;28;01mas\u001b[39;00m csvfile:\n\u001b[1;32m    135\u001b[0m         \u001b[38;5;28;01myield from\u001b[39;00m \u001b[38;5;28mself\u001b[39m\u001b[38;5;241m.\u001b[39m__read_file(csvfile)\n",
      "\u001b[0;31mFileNotFoundError\u001b[0m: [Errno 2] No such file or directory: './data/경제금융용어.csv'",
      "\nThe above exception was the direct cause of the following exception:\n",
      "\u001b[0;31mRuntimeError\u001b[0m                              Traceback (most recent call last)",
      "Cell \u001b[0;32mIn[55], line 2\u001b[0m\n\u001b[1;32m      1\u001b[0m loader_fin \u001b[38;5;241m=\u001b[39m CSVLoader(\u001b[38;5;124m\"\u001b[39m\u001b[38;5;124m./data/경제금융용어.csv\u001b[39m\u001b[38;5;124m\"\u001b[39m)\n\u001b[0;32m----> 2\u001b[0m documents_fin \u001b[38;5;241m=\u001b[39m \u001b[43mloader_fin\u001b[49m\u001b[38;5;241;43m.\u001b[39;49m\u001b[43mload\u001b[49m\u001b[43m(\u001b[49m\u001b[43m)\u001b[49m\n\u001b[1;32m      4\u001b[0m embeddings_fin \u001b[38;5;241m=\u001b[39m OpenAIEmbeddings()\n\u001b[1;32m      5\u001b[0m vectorstore_fin \u001b[38;5;241m=\u001b[39m Chroma\u001b[38;5;241m.\u001b[39mfrom_documents(documents\u001b[38;5;241m=\u001b[39mdocuments_fin, embedding\u001b[38;5;241m=\u001b[39membeddings_fin)\n",
      "File \u001b[0;32m/opt/miniconda3/envs/rag/lib/python3.10/site-packages/langchain_core/document_loaders/base.py:31\u001b[0m, in \u001b[0;36mBaseLoader.load\u001b[0;34m(self)\u001b[0m\n\u001b[1;32m     29\u001b[0m \u001b[38;5;28;01mdef\u001b[39;00m \u001b[38;5;21mload\u001b[39m(\u001b[38;5;28mself\u001b[39m) \u001b[38;5;241m-\u001b[39m\u001b[38;5;241m>\u001b[39m \u001b[38;5;28mlist\u001b[39m[Document]:\n\u001b[1;32m     30\u001b[0m \u001b[38;5;250m    \u001b[39m\u001b[38;5;124;03m\"\"\"Load data into Document objects.\"\"\"\u001b[39;00m\n\u001b[0;32m---> 31\u001b[0m     \u001b[38;5;28;01mreturn\u001b[39;00m \u001b[38;5;28;43mlist\u001b[39;49m\u001b[43m(\u001b[49m\u001b[38;5;28;43mself\u001b[39;49m\u001b[38;5;241;43m.\u001b[39;49m\u001b[43mlazy_load\u001b[49m\u001b[43m(\u001b[49m\u001b[43m)\u001b[49m\u001b[43m)\u001b[49m\n",
      "File \u001b[0;32m/opt/miniconda3/envs/rag/lib/python3.10/site-packages/langchain_community/document_loaders/csv_loader.py:151\u001b[0m, in \u001b[0;36mCSVLoader.lazy_load\u001b[0;34m(self)\u001b[0m\n\u001b[1;32m    149\u001b[0m         \u001b[38;5;28;01mraise\u001b[39;00m \u001b[38;5;167;01mRuntimeError\u001b[39;00m(\u001b[38;5;124mf\u001b[39m\u001b[38;5;124m\"\u001b[39m\u001b[38;5;124mError loading \u001b[39m\u001b[38;5;132;01m{\u001b[39;00m\u001b[38;5;28mself\u001b[39m\u001b[38;5;241m.\u001b[39mfile_path\u001b[38;5;132;01m}\u001b[39;00m\u001b[38;5;124m\"\u001b[39m) \u001b[38;5;28;01mfrom\u001b[39;00m \u001b[38;5;21;01me\u001b[39;00m\n\u001b[1;32m    150\u001b[0m \u001b[38;5;28;01mexcept\u001b[39;00m \u001b[38;5;167;01mException\u001b[39;00m \u001b[38;5;28;01mas\u001b[39;00m e:\n\u001b[0;32m--> 151\u001b[0m     \u001b[38;5;28;01mraise\u001b[39;00m \u001b[38;5;167;01mRuntimeError\u001b[39;00m(\u001b[38;5;124mf\u001b[39m\u001b[38;5;124m\"\u001b[39m\u001b[38;5;124mError loading \u001b[39m\u001b[38;5;132;01m{\u001b[39;00m\u001b[38;5;28mself\u001b[39m\u001b[38;5;241m.\u001b[39mfile_path\u001b[38;5;132;01m}\u001b[39;00m\u001b[38;5;124m\"\u001b[39m) \u001b[38;5;28;01mfrom\u001b[39;00m \u001b[38;5;21;01me\u001b[39;00m\n",
      "\u001b[0;31mRuntimeError\u001b[0m: Error loading ./data/경제금융용어.csv"
     ]
    }
   ],
   "source": [
    "loader_fin = CSVLoader(\"./data/경제금융용어.csv\")\n",
    "documents_fin = loader_fin.load()\n",
    "\n",
    "embeddings_fin = OpenAIEmbeddings()\n",
    "vectorstore_fin = Chroma.from_documents(documents=documents_fin, embedding=embeddings_fin)"
   ]
  },
  {
   "cell_type": "code",
   "execution_count": 50,
   "metadata": {},
   "outputs": [],
   "source": [
    "def get_prdt(question):\n",
    "    parser = ChatOpenAI(model=\"gpt-4o-mini\", temperature=0)\n",
    "    response = parser.invoke(\"Q:\" + question + \"\\nQ에서 은행명과 예적금을 모두 추출\\n은행명-예적금\").content\n",
    "    response = response.split(',')\n",
    "    result = []\n",
    "    for row in response:\n",
    "        bank, prdt = row.split('-')\n",
    "        result.append([{'bank':bank}, {'prdt':prdt}])\n",
    "    return result\n",
    "\n",
    "def get_fin(question):\n",
    "    system_message = \"\"\"\n",
    "        {question}에서 등장한 용어 중 {context}에 없는 단어를 삭제합니다.\n",
    "        format: 용어1,용어2,용어2\n",
    "    \"\"\"\n",
    "    qa_prompt = PromptTemplate(\n",
    "        input_variables=[\"context\", \"question\"],\n",
    "        template=system_message\n",
    "    )\n",
    "\n",
    "    # Set up RetrievalQA with the correct combination of LLM and retriever\n",
    "    chain = RetrievalQA.from_chain_type(\n",
    "        llm=llm,  # Pass the llm directly\n",
    "        retriever=vectorstore_fin.as_retriever(),\n",
    "        memory=memory,\n",
    "        chain_type_kwargs={\"prompt\": qa_prompt}\n",
    "    )\n",
    "\n",
    "    result = chain({'query': question})\n",
    "    return result['result'].split(',')"
   ]
  },
  {
   "cell_type": "code",
   "execution_count": 26,
   "metadata": {},
   "outputs": [
    {
     "data": {
      "text/plain": [
       "[[{'bank': '부산은행'}, {'prdt': '적금'}], [{'bank': ' K뱅크'}, {'prdt': '예금'}]]"
      ]
     },
     "execution_count": 26,
     "metadata": {},
     "output_type": "execute_result"
    }
   ],
   "source": [
    "get_prdt('부산은행 적금, K뱅크 예금')"
   ]
  },
  {
   "cell_type": "code",
   "execution_count": 51,
   "metadata": {},
   "outputs": [
    {
     "data": {
      "text/plain": [
       "['예·적금 수익률 높이기', ' 예금', ' 적금']"
      ]
     },
     "execution_count": 51,
     "metadata": {},
     "output_type": "execute_result"
    }
   ],
   "source": [
    "get_fin(\"예금은 좋고, 적금은 들기 힘듧니다.\")"
   ]
  },
  {
   "cell_type": "code",
   "execution_count": 10,
   "metadata": {},
   "outputs": [],
   "source": [
    "tmp = \"\"\"S:500만원을 1년 안에 모으고 싶으시다면,\n",
    "적절한 적금 상품은 대한저축은행의 장학적금자유식입니다.\n",
    "해당 상품은 2.4의 높은 금리를 가지고 있으며, 만19세 미만의 청소년만 가입 가능하고,\n",
    "창구에서만 가입할 수 있는 특징이 있어 사용자님에게 적절하다고 판단됩니다. 추가적으로 우리은행의 WON플러스예금을 추천드립니다\"\"\"\n",
    "\n",
    "result = get_prdt(tmp)"
   ]
  },
  {
   "cell_type": "code",
   "execution_count": 11,
   "metadata": {},
   "outputs": [
    {
     "data": {
      "text/plain": [
       "'대한저축은행 - 장학적금자유식  \\n우리은행 - WON플러스예금'"
      ]
     },
     "execution_count": 11,
     "metadata": {},
     "output_type": "execute_result"
    }
   ],
   "source": [
    "result"
   ]
  },
  {
   "cell_type": "code",
   "execution_count": 191,
   "metadata": {},
   "outputs": [],
   "source": [
    "loader_bank = CSVLoader(\"./data/bank_eval.csv\", encoding='cp949')\n",
    "documents_bank = loader_bank.load()\n",
    "\n",
    "embeddings_bank = OpenAIEmbeddings()\n",
    "vectorstore_bank = Chroma.from_documents(documents=documents_bank, embedding=embeddings_bank)"
   ]
  },
  {
   "cell_type": "code",
   "execution_count": 192,
   "metadata": {},
   "outputs": [],
   "source": [
    "def get_eval(question):\n",
    "    system_message = \"\"\"\n",
    "        1. {question}에서 등장한 은행을 추출합니다.\n",
    "        2. {context}에거 추출한 은행의 정보를 찾습니다.\n",
    "        평가 방법:\n",
    "        재무상태표, 손익계산서, 자본적정성평가, 수익성평가, 여신건전성 평가 등을 종합하여 은행 건전성 평가에 활용\n",
    "\n",
    "        국내 일반은행 평균\n",
    "        BIS : 16.64\n",
    "        고정이하여신 : 0.52\n",
    "        ROA : 0.58\n",
    "        NIM : 1.60\n",
    "\n",
    "        국내 저축은행 평균\n",
    "        BIS : 15.00\n",
    "        고정이하여신 : 11.53\n",
    "        ROA : 0.00  **(-)인 기관이 있음. \n",
    "\n",
    "        BIS(자기자본비율) 최소준수 비율 8%, 높을수록 좋다.\n",
    "        NPL(고정이하여신비율)은 낮을수록 좋다.\n",
    "        ROA(총자산이익률)은 높을수록 좋다.\n",
    "        NIM(순이자마진)은 낮을수록 좋다.\n",
    "\n",
    "        금융 평가 전문가인 당신은 추출한 은행의 정보를 평가하여 제공합니다.\n",
    "    \"\"\"\n",
    "    qa_prompt = PromptTemplate(\n",
    "        input_variables=[\"context\", \"question\"],\n",
    "        template=system_message\n",
    "    )\n",
    "\n",
    "    # Set up RetrievalQA with the correct combination of LLM and retriever\n",
    "    chain = RetrievalQA.from_chain_type(\n",
    "        llm=llm,  # Pass the llm directly\n",
    "        retriever=vectorstore_bank.as_retriever(),\n",
    "        memory=memory,\n",
    "        chain_type_kwargs={\"prompt\": qa_prompt}\n",
    "    )\n",
    "\n",
    "    result = chain({'question': question, 'query': question})\n",
    "    return result['result'].split(',')"
   ]
  },
  {
   "cell_type": "code",
   "execution_count": 193,
   "metadata": {},
   "outputs": [],
   "source": [
    "result = get_eval(\"CK저축은행\")"
   ]
  },
  {
   "cell_type": "code",
   "execution_count": 194,
   "metadata": {},
   "outputs": [
    {
     "name": "stdout",
     "output_type": "stream",
     "text": [
      "['CK저축은행의 재무정보를 바탕으로 은행의 건전성을 평가해 보겠습니다. 제공된 데이터는 자산과 부채에 대한 정보입니다.\\n'\n",
      " '\\n'\n",
      " '### 1. 자산 및 부채 현황\\n'\n",
      " '- **자산 (백만원)**\\n'\n",
      " '  - 2022년 12월: 262',\n",
      " '939\\n  - 2023년 06월: 330',\n",
      " '530\\n  - 2023년 12월: 421',\n",
      " '549\\n  - 2024년 06월: 473',\n",
      " '186\\n\\n- **부채 (백만원)**\\n  - 2022년 12월: 232',\n",
      " '467\\n  - 2023년 06월: 294',\n",
      " '159\\n  - 2023년 12월: 379',\n",
      " '468\\n  - 2024년 06월: 427',\n",
      " '853\\n'\n",
      " '\\n'\n",
      " '### 2. 자본 및 자기자본 비율(BIS) 계산\\n'\n",
      " '자본은 자산에서 부채를 뺀 값으로 계산할 수 있습니다.\\n'\n",
      " '\\n'\n",
      " '- **자본 (백만원)**\\n'\n",
      " '  - 2022년 12월: 262',\n",
      " '939 - 232',\n",
      " '467 = 30',\n",
      " '472\\n  - 2023년 06월: 330',\n",
      " '530 - 294',\n",
      " '159 = 36',\n",
      " '371\\n  - 2023년 12월: 421',\n",
      " '549 - 379',\n",
      " '468 = 42',\n",
      " '081\\n  - 2024년 06월: 473',\n",
      " '186 - 427',\n",
      " '853 = 45',\n",
      " '333\\n\\n- **BIS 계산**\\n  - BIS = (자본 / 자산) * 100\\n  - 2022년 12월: (30',\n",
      " '472 / 262',\n",
      " '939) * 100 ≈ 11.58%\\n  - 2023년 06월: (36',\n",
      " '371 / 330',\n",
      " '530) * 100 ≈ 11.01%\\n  - 2023년 12월: (42',\n",
      " '081 / 421',\n",
      " '549) * 100 ≈ 10.00%\\n  - 2024년 06월: (45',\n",
      " '333 / 473',\n",
      " '186) * 100 ≈ 9.57%\\n\\n### 3. 고정이하여신 비율(NPL)\\n고정이하여신 비율에 대한 정보는 제공되지 않았으므로',\n",
      " ' 이 부분은 평가할 수 없습니다. 그러나 저축은행 평균이 11.53%인 점을 고려할 때',\n",
      " ' CK저축은행의 NPL 비율이 이보다 낮다면 긍정적인 신호가 될 것입니다.\\n'\n",
      " '\\n'\n",
      " '### 4. 총자산이익률(ROA) 및 순이자마진(NIM)\\n'\n",
      " 'ROA와 NIM에 대한 정보가 제공되지 않았으므로',\n",
      " ' 이 부분도 평가할 수 없습니다. 그러나 ROA가 0.00%인 저축은행 평균을 고려할 때',\n",
      " ' CK저축은행이 이보다 높은 ROA를 기록한다면 긍정적인 신호가 될 것입니다.\\n'\n",
      " '\\n'\n",
      " '### 5. 종합 평가\\n'\n",
      " '- **자본 적정성**: BIS가 8% 이상이어야 하며',\n",
      " ' CK저축은행은 평균적으로 10% 이하로 낮아 자본 적정성이 부족합니다.\\n'\n",
      " '- **여신 건전성**: 고정이하여신 비율이 제공되지 않아 평가할 수 없으나',\n",
      " ' 저축은행 평균에 비해 낮다면 긍정적입니다.\\n- **수익성**: ROA와 NIM이 제공되지 않아 평가할 수 없으나',\n",
      " ' 저축은행 평균에 비해 높은 수익성을 기록한다면 긍정적입니다.\\n\\n### 결론\\nCK저축은행은 자본 적정성에서 부족한 점이 있으며',\n",
      " ' 여신 건전성과 수익성에 대한 추가 정보가 필요합니다. 전체적으로 더 많은 데이터가 필요하지만',\n",
      " ' 현재로서는 자본 비율이 낮아 건전성에 대한 우려가 있습니다. 추가적인 재무정보와 시장 동향을 고려하여 지속적인 모니터링이 필요합니다.']\n"
     ]
    }
   ],
   "source": [
    "pprint(result)"
   ]
  },
  {
   "cell_type": "code",
   "execution_count": null,
   "metadata": {},
   "outputs": [],
   "source": []
  }
 ],
 "metadata": {
  "kernelspec": {
   "display_name": "rag",
   "language": "python",
   "name": "python3"
  },
  "language_info": {
   "codemirror_mode": {
    "name": "ipython",
    "version": 3
   },
   "file_extension": ".py",
   "mimetype": "text/x-python",
   "name": "python",
   "nbconvert_exporter": "python",
   "pygments_lexer": "ipython3",
   "version": "3.10.15"
  }
 },
 "nbformat": 4,
 "nbformat_minor": 2
}
